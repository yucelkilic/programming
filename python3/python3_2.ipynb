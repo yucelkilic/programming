{
 "cells": [
  {
   "cell_type": "markdown",
   "metadata": {},
   "source": [
    "# Koşul Durumları"
   ]
  },
  {
   "cell_type": "markdown",
   "metadata": {
    "collapsed": true
   },
   "source": [
    "Hiç kuşkusuz, koşula bağlı durumlar Python’daki en önemli konulardan biridir. Giriş bölümünde bahsettiğimiz koşullu işlemleri yapabilmek için ‘koşul deyimleri’ adı verilen birtakım araçlardan yararlanacağız. Gelin şimdi bu araçların neler olduğunu görelim (Özgül, Python3 Kılavuzu, 2017)."
   ]
  },
  {
   "cell_type": "markdown",
   "metadata": {},
   "source": [
    "Python 3'te koşullu durumları ifade etmek için 3 deyimden yararlanırız.\n",
    "\n",
    "* if (eğer)\n",
    "* elif (değilse eğer)\n",
    "* else (değilse)\n",
    "\n",
    "Bu ifadelerle birlikte değişkenlerin veya değerlerin birbiri ile kıyaslanmasını sağlayan operatörler ve anlamları tabloda verilmiştir.\n",
    "\n",
    "| Operatör | Anlamı        |\n",
    "|----------|---------------|\n",
    "| >        | büyüktür      |\n",
    "| <        | küçüktür      |\n",
    "| >=       | büyük eşittir |\n",
    "| <=       | küçük eşittir |\n",
    "| ==       | eşittir       |\n",
    "| !=       | eşit değildir |\n",
    "\n",
    "Bu operatörleri python3'te kullanalım.\n"
   ]
  },
  {
   "cell_type": "code",
   "execution_count": 1,
   "metadata": {},
   "outputs": [
    {
     "data": {
      "text/plain": [
       "False"
      ]
     },
     "execution_count": 1,
     "metadata": {},
     "output_type": "execute_result"
    }
   ],
   "source": [
    "a = 5\n",
    "b = 6\n",
    "\n",
    "a > b"
   ]
  },
  {
   "cell_type": "markdown",
   "metadata": {},
   "source": [
    "Yukarıdaki örnekte **a** değişkeni **b** değişkeninden büyük değildir. Bunu python3 yorumlayıcı bu yüzden **False** olarak değerlendirdi."
   ]
  },
  {
   "cell_type": "markdown",
   "metadata": {},
   "source": [
    "Diğer operatörlerde de durum benzerdir. Herhangi bir operatörle dilediğiniz kıyaslamayı yapabilirsiniz. \n",
    "\n",
    "**Örneğin;***"
   ]
  },
  {
   "cell_type": "code",
   "execution_count": 2,
   "metadata": {},
   "outputs": [
    {
     "data": {
      "text/plain": [
       "True"
      ]
     },
     "execution_count": 2,
     "metadata": {},
     "output_type": "execute_result"
    }
   ],
   "source": [
    "i = 10\n",
    "j = 26\n",
    "\n",
    "i <= j"
   ]
  },
  {
   "cell_type": "markdown",
   "metadata": {},
   "source": [
    "Yukarıdaki örnekte **i** değişkeni **j** değişkenine küçük veya eşit olduğu tüm durumlarda **True** olacaktır. \n",
    "\n",
    "İşte bu operatörlele karşılaştırılan değişkenlerin python3 yorumlayıcısının verdiği sonuç sonra bizim **koşul ifadeleri** yardımıyla yazılımımıza yön vermemiz gerekecek. **True** olması durumunda bunu yap, **False** olması durumunda bunu yap gibi..."
   ]
  },
  {
   "cell_type": "markdown",
   "metadata": {},
   "source": [
    "## 1. if"
   ]
  },
  {
   "cell_type": "markdown",
   "metadata": {},
   "source": [
    "Diyelim ki klavyeden grilen herhangi bir sayının 10'dan büyük olup/olmadığını ekrana yazdıran bir program yazalım."
   ]
  },
  {
   "cell_type": "code",
   "execution_count": 3,
   "metadata": {},
   "outputs": [
    {
     "name": "stdout",
     "output_type": "stream",
     "text": [
      "Bir sayı giriniz:9\n",
      "9 10'dan küçüktür.\n"
     ]
    }
   ],
   "source": [
    "sayi = int(input(\"Bir sayı giriniz:\"))\n",
    "\n",
    "if sayi < 10:\n",
    "    print(sayi, \"10'dan küçüktür.\")"
   ]
  },
  {
   "cell_type": "markdown",
   "metadata": {},
   "source": [
    "Burada dikkat edilmesi gereken nokta şudur. if satırındaki kıyaslamadan sonra satır mutlaka **:** ile bitirilmedir. **:** 'dan sonra gelecek kısım mutlaka girintili bir şekilde (4 adet boşluk)  yazılmalıdır.\n",
    "\n",
    "**if** satırındaki kıyaslamanın sonucu **True** ise girintili kısım çalışacaktır. **False** ise çalışmayacaktır."
   ]
  },
  {
   "cell_type": "markdown",
   "metadata": {},
   "source": [
    "Tabii burada program eksik kaldı. Girilen sayının 10'dan büyük ve eşit kısımlarında da çalışmasını istersek şu şekilde kodumuzu geliştirmemiz gerekecek."
   ]
  },
  {
   "cell_type": "code",
   "execution_count": 5,
   "metadata": {},
   "outputs": [
    {
     "name": "stdout",
     "output_type": "stream",
     "text": [
      "Bir sayı giriniz:11\n",
      "11 10'dan büyüktür.\n"
     ]
    }
   ],
   "source": [
    "sayi = int(input(\"Bir sayı giriniz:\"))\n",
    "\n",
    "if sayi < 10:\n",
    "    print(sayi, \"10'dan küçüktür.\")\n",
    "\n",
    "if sayi > 10:\n",
    "    print(sayi, \"10'dan büyüktür.\")\n",
    "\n",
    "if sayi == 10:\n",
    "    print(sayi, \"10'a eşittir.\")"
   ]
  },
  {
   "cell_type": "markdown",
   "metadata": {},
   "source": [
    "Yukarıdaki karşılaştırmalardan **56** sayısı için ikinci **if**'li ifade True sonucunu vereceği için sadece ikinci if bloğu çalışacaktır.\n",
    "\n",
    "Örneklerde de anlaşıldığı gibi bu karşılaştırmaların çalışabilmesi için **True** mantığı geçerlidir."
   ]
  },
  {
   "cell_type": "markdown",
   "metadata": {},
   "source": [
    "## 2. elif"
   ]
  },
  {
   "cell_type": "markdown",
   "metadata": {},
   "source": [
    "Python'da if ile kullanılan bir başka deyim de **elif** deyimidir. **elif**, eğer değilse şekilnde düşünülebilir. Yani **if** ile kıyaslanan bir durum **True** değilse, bir başka karşılaştırma yapmak için kullanılır. Bir örnekle daha iyi anlaşılacaktır."
   ]
  },
  {
   "cell_type": "code",
   "execution_count": 6,
   "metadata": {},
   "outputs": [
    {
     "name": "stdout",
     "output_type": "stream",
     "text": [
      "Yaşınız: 15\n",
      "Böylesi daha iyi boşver!\n"
     ]
    }
   ],
   "source": [
    "yas = int(input(\"Yaşınız: \"))\n",
    "\n",
    "if yas == 18:\n",
    "    print(\"18 iyidir! Çocukluğunu şimdiden özlesen iyi olur!\")\n",
    "elif yas < 0:\n",
    "    print(\"Evladım o evreyi sormadım! :)\")\n",
    "elif yas < 18:\n",
    "    print(\"Böylesi daha iyi boşver!\")\n",
    "elif yas > 18:\n",
    "    print(\"Kocaman adam/kadın olmuşsun! Burada ne arıyorsun? :/\")"
   ]
  },
  {
   "cell_type": "markdown",
   "metadata": {},
   "source": [
    "Bu programı **if** deyimi ile de yapabilirdik ama bu programdan farklı olarak **if** durumunda birden fazla **True** ile karşılaşma olasılığımız olabilirdi. **elif** kısmında yalnızda **True** olan ilk ifade çalışır ve o bloktan çıkılır."
   ]
  },
  {
   "cell_type": "markdown",
   "metadata": {},
   "source": [
    "### if ve elif farkı"
   ]
  },
  {
   "cell_type": "code",
   "execution_count": 7,
   "metadata": {},
   "outputs": [
    {
     "name": "stdout",
     "output_type": "stream",
     "text": [
      "a: 25\n",
      "c: 25\n"
     ]
    }
   ],
   "source": [
    "sayi = 25\n",
    "\n",
    "if sayi < 30:\n",
    "    print(\"a:\", sayi)\n",
    "    \n",
    "if sayi < 20:\n",
    "    print(\"b:\", sayi)\n",
    "\n",
    "if sayi > 8:\n",
    "    print(\"c:\", sayi)"
   ]
  },
  {
   "cell_type": "markdown",
   "metadata": {},
   "source": [
    "Yukarıdaki örnekte de görüldüğü üzere sadece **if** deyimi ile yazılan program birden fazla şartı sağladı ve ekrana çıktı verdi. Örneğimizi **elif** ile kuralım;"
   ]
  },
  {
   "cell_type": "code",
   "execution_count": 8,
   "metadata": {},
   "outputs": [
    {
     "name": "stdout",
     "output_type": "stream",
     "text": [
      "a: 25\n"
     ]
    }
   ],
   "source": [
    "sayi = 25\n",
    "\n",
    "if sayi < 30:\n",
    "    print(\"a:\", sayi)\n",
    "elif sayi < 20:\n",
    "    print(\"b:\", sayi)\n",
    "elif sayi > 8:\n",
    "    print(\"c:\", sayi)"
   ]
  },
  {
   "cell_type": "markdown",
   "metadata": {},
   "source": [
    "**elif** deyimi ile yazılan programda ise ilk **True** ifade sonuç verdi. Çünkü **elif** kısmı **if** deyiminden sonra **True** olacak ilk durumu algılar ve sonra bütün bir **if** bloğundan çıkar. Buna çok dikkat etmemiz gerek."
   ]
  },
  {
   "cell_type": "markdown",
   "metadata": {},
   "source": [
    "## 3. else"
   ]
  },
  {
   "cell_type": "markdown",
   "metadata": {},
   "source": [
    "**else**, **if** veya **elif** durumlarının haricinde bir durum gerçekleşirse **True** olur. Yani burada bir kıyaslama yapmamız gerekmek. Karşılaştırma yaptığımız olasılık uzayı dışındaki durumların gerçekleşme durumudur.\n",
    "\n",
    "**Örneğin;**"
   ]
  },
  {
   "cell_type": "code",
   "execution_count": 11,
   "metadata": {
    "scrolled": true
   },
   "outputs": [
    {
     "name": "stdout",
     "output_type": "stream",
     "text": [
      "Programdan çıkmak istediğinize emin misiniz? Eminseniz 'e' harfine basın : r\n",
      "Peki, biraz daha sohbet edelim!\n"
     ]
    }
   ],
   "source": [
    "soru = input(\"Programdan çıkmak istediğinize emin misiniz? \\\n",
    "Eminseniz 'e' harfine basın : \")\n",
    "\n",
    "if soru == \"e\":\n",
    "    print(\"Güle güle!\")\n",
    "elif soru == \"E\":\n",
    "    print(\"Güle güle! Caps Lock açık, yeri gelmişken hatırlatayım ;)\")\n",
    "else:\n",
    "    print(\"Peki, biraz daha sohbet edelim!\")"
   ]
  },
  {
   "cell_type": "markdown",
   "metadata": {},
   "source": [
    "Burada **if** kısmındaki karşılaştırma doğru ise ilk kısım çalışacak, eğer ikinci kısımdaki karşılaştırma yani **E** tuşuna basılırsa ikinci kısım çalışacak. Eğer tüm bu karşılaştırmaların dışında bir tuşa basılırsa **else** kısmı **True** olmuş olacaktır.\n",
    "\n",
    "**Koşul ifadeleri** python 3'te özet olarak burada anlatılmıştır. Daha detaylı bilgiler için lütfen [kaynaklar](python3_1.ipynb) bölümünü inceleyiniz."
   ]
  },
  {
   "cell_type": "markdown",
   "metadata": {},
   "source": [
    "to be continued..."
   ]
  }
 ],
 "metadata": {
  "kernelspec": {
   "display_name": "Python 3",
   "language": "python",
   "name": "python3"
  },
  "language_info": {
   "codemirror_mode": {
    "name": "ipython",
    "version": 3
   },
   "file_extension": ".py",
   "mimetype": "text/x-python",
   "name": "python",
   "nbconvert_exporter": "python",
   "pygments_lexer": "ipython3",
   "version": "3.6.2"
  }
 },
 "nbformat": 4,
 "nbformat_minor": 2
}
