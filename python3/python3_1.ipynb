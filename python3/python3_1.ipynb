{
 "cells": [
  {
   "cell_type": "markdown",
   "metadata": {},
   "source": [
    "# Kullanacağımız kaynaklar\n",
    "\n",
    "Python 2/3 sürümleri için internette çok sayıda kaynağa erişebilirsiniz. \n",
    "\n",
    "* https://belgeler.yazbel.com/python-istihza.pdf (Türkçe - PDF)\n",
    "* https://belgeler.yazbel.com/python-istihza/ (Türkçe - Web)\n",
    "* https://belgeler.yazbel.com (Türkçe - Web)\n",
    "* https://docs.python.org/3/ (Web)\n",
    "* https://prappleizer.github.io/textbook.pdf (İngilizce - PDF)\n",
    "* Her Yönüyle Python, Fırat ÖZGÜL, Kodlab, 5. Baskı, 2017 (Kitap). Destek olun!\n",
    "* https://github.com/yucelkilic/programming/python3 (Haftalık uygulama notları.)"
   ]
  },
  {
   "cell_type": "markdown",
   "metadata": {},
   "source": [
    "# Anaconda ile kolay kurulum\n",
    "\n",
    "* https://www.anaconda.com/download/ (Sürüm 3.6)\n",
    "* [Nasıl kurarım?](https://docs.anaconda.com/anaconda/install/)"
   ]
  },
  {
   "cell_type": "markdown",
   "metadata": {},
   "source": [
    "# Giriş\n",
    "## 1. Veri tipleri"
   ]
  },
  {
   "cell_type": "markdown",
   "metadata": {},
   "source": [
    "* **Integer ifadeler:** Sayma sayılarını ifade etmek için kullanılırlar. Örn: -1, 5, 6, 11, ...\n",
    "\n",
    "* **Float ifadeler:** Ondalıklı sayılar. Örn: 1.0, 3.1415, 5.8, 12.666666, 9.999999, ...\n",
    "\n",
    "* **String ifadeler:** Genellikle sözel ifadeleri, dosya yollarını vb. tutmak için kullanılırlar. Bu ifadeler çift tırnak(\"\") arasında kullanılmalıdır. Örn: \"Andromeda\", \"ev\", \"halı\", \"C:\\Windows\\System32\", ...\n",
    "\n",
    "* **Listeler:** Çeşitli veri tiplerinden ifadeyi toplu olarak taşımak için kullanılırlar ve [] (köşeli parantezler) içerisinde gösterilmelidir. Örn: [1, 2, 5, \"ali\", \"veli\", 3.1415, [1, 6, \"balık\"]] (Liste içerisinde liste kullandığınıza dikkat edin!)\n",
    "\n",
    "* **Demetler:** Listelere çok benzerler fakat listelerin aksine değiştirilemezler. Parantez içinde gösterilirler. Örn: (\"10/A\", \"10/B\", \"10C\")\n",
    "\n",
    "* **Sözlükler:** Karşılıklı gelen çiftlerin toplanması için kullanılan veri tipleridir. Sözlüklerde bir \"anahtar\" bir \"değere\" karşılık gelmek zorundadır. Örnekler ileriki derslerde...\n",
    "\n",
    "* **Boolean (mantıksal) ifadeler:** Veri tipinin yalnızca True (Doğru) veya False (Yanlış) olabileceği ifadelerdir. Genellikle bu veri tipleri koşul gerektiren kısımlarda kullanılır.\n",
    "\n",
    "* **Not: Bu veri tipleri her ne kadar python'a özgü ise de diğer programlama dillerinde de kullanılmaktadır. Önemli olan işin mantığını kavramaktır!**\n",
    "\n",
    "* **Not 2:** **#** karakteri python'da yorum karakteridir. Python yorumlayıcı # karakteri ile paşlayan satırı kod olarak değerlendirmez. Genellikle programcılar bu ifadeleri yazdıkları kodu açıklamak için kullanırlar."
   ]
  },
  {
   "cell_type": "markdown",
   "metadata": {},
   "source": [
    "## 2. Temel matematik işlemleri"
   ]
  },
  {
   "cell_type": "code",
   "execution_count": 1,
   "metadata": {},
   "outputs": [
    {
     "data": {
      "text/plain": [
       "9"
      ]
     },
     "execution_count": 1,
     "metadata": {},
     "output_type": "execute_result"
    }
   ],
   "source": [
    "3 + 6"
   ]
  },
  {
   "cell_type": "code",
   "execution_count": 2,
   "metadata": {},
   "outputs": [
    {
     "data": {
      "text/plain": [
       "4"
      ]
     },
     "execution_count": 2,
     "metadata": {},
     "output_type": "execute_result"
    }
   ],
   "source": [
    "11 - 7"
   ]
  },
  {
   "cell_type": "code",
   "execution_count": 4,
   "metadata": {},
   "outputs": [
    {
     "data": {
      "text/plain": [
       "72"
      ]
     },
     "execution_count": 4,
     "metadata": {},
     "output_type": "execute_result"
    }
   ],
   "source": [
    "3 * 24"
   ]
  },
  {
   "cell_type": "code",
   "execution_count": 5,
   "metadata": {},
   "outputs": [
    {
     "data": {
      "text/plain": [
       "3.1415"
      ]
     },
     "execution_count": 5,
     "metadata": {},
     "output_type": "execute_result"
    }
   ],
   "source": [
    "3.1415"
   ]
  },
  {
   "cell_type": "code",
   "execution_count": 6,
   "metadata": {},
   "outputs": [
    {
     "data": {
      "text/plain": [
       "0.5"
      ]
     },
     "execution_count": 6,
     "metadata": {},
     "output_type": "execute_result"
    }
   ],
   "source": [
    "1 / 2"
   ]
  },
  {
   "cell_type": "code",
   "execution_count": 7,
   "metadata": {},
   "outputs": [
    {
     "data": {
      "text/plain": [
       "0"
      ]
     },
     "execution_count": 7,
     "metadata": {},
     "output_type": "execute_result"
    }
   ],
   "source": [
    "0 * 9"
   ]
  },
  {
   "cell_type": "code",
   "execution_count": 9,
   "metadata": {},
   "outputs": [
    {
     "ename": "ZeroDivisionError",
     "evalue": "division by zero",
     "output_type": "error",
     "traceback": [
      "\u001b[0;31m---------------------------------------------------------------------------\u001b[0m",
      "\u001b[0;31mZeroDivisionError\u001b[0m                         Traceback (most recent call last)",
      "\u001b[0;32m<ipython-input-9-1afc5de14aa5>\u001b[0m in \u001b[0;36m<module>\u001b[0;34m()\u001b[0m\n\u001b[1;32m      1\u001b[0m \u001b[0;31m# 0'a bölünme hatası!\u001b[0m\u001b[0;34m\u001b[0m\u001b[0;34m\u001b[0m\u001b[0m\n\u001b[0;32m----> 2\u001b[0;31m \u001b[0;36m7\u001b[0m \u001b[0;34m/\u001b[0m \u001b[0;36m0\u001b[0m\u001b[0;34m\u001b[0m\u001b[0m\n\u001b[0m",
      "\u001b[0;31mZeroDivisionError\u001b[0m: division by zero"
     ]
    }
   ],
   "source": [
    "# 0'a bölünme hatası!\n",
    "7 / 0"
   ]
  },
  {
   "cell_type": "code",
   "execution_count": 10,
   "metadata": {},
   "outputs": [
    {
     "data": {
      "text/plain": [
       "12.0"
      ]
     },
     "execution_count": 10,
     "metadata": {},
     "output_type": "execute_result"
    }
   ],
   "source": [
    "float(12)"
   ]
  },
  {
   "cell_type": "markdown",
   "metadata": {},
   "source": [
    "Yukarıdaki işlemde 12 sayısı normalde **integer** bir veri tipindedir. Python3'de veri tipleri bu gibi fonksiyonlarla birbirlerine dönüştürülebilirler."
   ]
  },
  {
   "cell_type": "code",
   "execution_count": 11,
   "metadata": {},
   "outputs": [
    {
     "data": {
      "text/plain": [
       "12"
      ]
     },
     "execution_count": 11,
     "metadata": {},
     "output_type": "execute_result"
    }
   ],
   "source": [
    "int(12.0)"
   ]
  },
  {
   "cell_type": "markdown",
   "metadata": {},
   "source": [
    "Yukarıda python3 satırında yapığımız işlemlerin hepsi bir değişkene atanabilir. Bu işlem matematikteki değişken atamadan farksızdır."
   ]
  },
  {
   "cell_type": "code",
   "execution_count": 12,
   "metadata": {
    "collapsed": true
   },
   "outputs": [],
   "source": [
    "x = 14"
   ]
  },
  {
   "cell_type": "code",
   "execution_count": 13,
   "metadata": {
    "collapsed": true
   },
   "outputs": [],
   "source": [
    "y = float(7)"
   ]
  },
  {
   "cell_type": "code",
   "execution_count": 14,
   "metadata": {
    "collapsed": true
   },
   "outputs": [],
   "source": [
    "z = int(y)"
   ]
  },
  {
   "cell_type": "code",
   "execution_count": 15,
   "metadata": {},
   "outputs": [
    {
     "data": {
      "text/plain": [
       "(14, 7.0, 7)"
      ]
     },
     "execution_count": 15,
     "metadata": {},
     "output_type": "execute_result"
    }
   ],
   "source": [
    "x, y, z"
   ]
  },
  {
   "cell_type": "markdown",
   "metadata": {},
   "source": [
    "Diğer bir basit matematik işlemi üstel işlemler. Python3'te bu işlemi yapmak için çift yıldızı (**) kullanmamız gerek."
   ]
  },
  {
   "cell_type": "code",
   "execution_count": 16,
   "metadata": {},
   "outputs": [
    {
     "data": {
      "text/plain": [
       "8"
      ]
     },
     "execution_count": 16,
     "metadata": {},
     "output_type": "execute_result"
    }
   ],
   "source": [
    "2**3"
   ]
  },
  {
   "cell_type": "markdown",
   "metadata": {},
   "source": [
    "**Python3'teki matematiksel işlemler bunlarla sınırlı değildir. Fakat daha fazla işlem yapabilmek için (Örn: sin, cos, sqrt vb.) bazı ek matematik paketleri gereklidir. Bunları daha sonra ele alacağız.**"
   ]
  },
  {
   "cell_type": "markdown",
   "metadata": {},
   "source": [
    "## 3. print() fonksiyonu"
   ]
  },
  {
   "cell_type": "markdown",
   "metadata": {},
   "source": [
    "print() fonksiyonun görevi ekrana çıktı verilmesini sağlamaktır."
   ]
  },
  {
   "cell_type": "code",
   "execution_count": 18,
   "metadata": {},
   "outputs": [
    {
     "name": "stdout",
     "output_type": "stream",
     "text": [
      "Benim manevi mirasım bilim ve akıldır. ~M. Kemal ATATÜRK\n"
     ]
    }
   ],
   "source": [
    "print(\"Benim manevi mirasım bilim ve akıldır. ~M. Kemal ATATÜRK\")"
   ]
  },
  {
   "cell_type": "code",
   "execution_count": 19,
   "metadata": {
    "collapsed": true
   },
   "outputs": [],
   "source": [
    "ozlusoz = \"Benim manevi mirasım bilim ve akıldır. ~M. Kemal ATATÜRK\""
   ]
  },
  {
   "cell_type": "code",
   "execution_count": 20,
   "metadata": {},
   "outputs": [
    {
     "name": "stdout",
     "output_type": "stream",
     "text": [
      "Benim manevi mirasım bilim ve akıldır. ~M. Kemal ATATÜRK\n"
     ]
    }
   ],
   "source": [
    "print(ozlusoz)"
   ]
  },
  {
   "cell_type": "markdown",
   "metadata": {},
   "source": [
    "print() fonksiyonu içinde üç farklı tırnak işareti kullanılabilir.\n",
    "1. Tek tırnak (' ')\n",
    "2. Çift tırnak (\" \") \n",
    "3. Üç tırnak (\"\"\" \"\"\")"
   ]
  },
  {
   "cell_type": "code",
   "execution_count": 23,
   "metadata": {},
   "outputs": [
    {
     "ename": "SyntaxError",
     "evalue": "invalid syntax (<ipython-input-23-dbc8614db5dc>, line 1)",
     "output_type": "error",
     "traceback": [
      "\u001b[0;36m  File \u001b[0;32m\"<ipython-input-23-dbc8614db5dc>\"\u001b[0;36m, line \u001b[0;32m1\u001b[0m\n\u001b[0;31m    print('Eğer tüm evrende yaşam sadece Dünya'da varsa, bu çok büyük bir yer israfı olurdu. ~Carl Sagan')\u001b[0m\n\u001b[0m                                                ^\u001b[0m\n\u001b[0;31mSyntaxError\u001b[0m\u001b[0;31m:\u001b[0m invalid syntax\n"
     ]
    }
   ],
   "source": [
    "print('Eğer tüm evrende yaşam sadece Dünya'da varsa, bu çok büyük bir yer israfı olurdu. ~Carl Sagan')"
   ]
  },
  {
   "cell_type": "code",
   "execution_count": 24,
   "metadata": {},
   "outputs": [
    {
     "name": "stdout",
     "output_type": "stream",
     "text": [
      "Eğer tüm evrende yaşam sadece Dünya'da varsa, bu çok büyük bir yer israfı olurdu. ~Carl Sagan\n"
     ]
    }
   ],
   "source": [
    "print(\"Eğer tüm evrende yaşam sadece Dünya'da varsa, bu çok büyük bir yer israfı olurdu. ~Carl Sagan\")"
   ]
  },
  {
   "cell_type": "code",
   "execution_count": 25,
   "metadata": {},
   "outputs": [
    {
     "name": "stdout",
     "output_type": "stream",
     "text": [
      "Eğer tüm evrende yaşam sadece Dünya'da varsa, bu çok büyük bir yer israfı olurdu. ~Carl Sagan\n"
     ]
    }
   ],
   "source": [
    "print(\"\"\"Eğer tüm evrende yaşam sadece Dünya'da varsa, bu çok büyük bir yer israfı olurdu. ~Carl Sagan\"\"\")"
   ]
  },
  {
   "cell_type": "code",
   "execution_count": 28,
   "metadata": {},
   "outputs": [
    {
     "name": "stdout",
     "output_type": "stream",
     "text": [
      "\n",
      "[S]=========SPACE========[-][o][x] \n",
      "|                                |\n",
      "|                                |\n",
      "|    Programa Hoşgeldiniz!       |\n",
      "|         Sürüm 1.0              |\n",
      "|                                |\n",
      "|   Geliştirici: Yaşar YAŞAMAZ   |\n",
      "|     Devam etmek için bir       |\n",
      "|        tuşa basınız.           | \n",
      "|                                |\n",
      "=================================|\n",
      "\n"
     ]
    }
   ],
   "source": [
    "print(\"\"\"\n",
    "[S]=========SPACE========[-][o][x] \n",
    "|                                |\n",
    "|                                |\n",
    "|    Programa Hoşgeldiniz!       |\n",
    "|         Sürüm 1.0              |\n",
    "|                                |\n",
    "|   Geliştirici: Yaşar YAŞAMAZ   |\n",
    "|     Devam etmek için bir       |\n",
    "|        tuşa basınız.           | \n",
    "|                                |\n",
    "=================================|\n",
    "\"\"\")"
   ]
  },
  {
   "cell_type": "markdown",
   "metadata": {},
   "source": [
    "print() fonksiyonu virgül ayıracı ile de kullanılabilir."
   ]
  },
  {
   "cell_type": "code",
   "execution_count": 29,
   "metadata": {},
   "outputs": [
    {
     "name": "stdout",
     "output_type": "stream",
     "text": [
      "Yaşar YAŞAMAZ\n"
     ]
    }
   ],
   "source": [
    "print(\"Yaşar\", \"YAŞAMAZ\")"
   ]
  },
  {
   "cell_type": "markdown",
   "metadata": {},
   "source": [
    "Ayıraç **sep** parametresi ile değiştirilebilir."
   ]
  },
  {
   "cell_type": "code",
   "execution_count": 31,
   "metadata": {},
   "outputs": [
    {
     "name": "stdout",
     "output_type": "stream",
     "text": [
      "Yaşar - YAŞAMAZ\n"
     ]
    }
   ],
   "source": [
    "print(\"Yaşar\", \"YAŞAMAZ\", sep=\" - \")"
   ]
  },
  {
   "cell_type": "markdown",
   "metadata": {},
   "source": [
    "**Not: Daha ayrıntılı bilgi için lütfen https://belgeler.yazbel.com/python-istihza/ bağlantısını ziyaret edin!**"
   ]
  },
  {
   "cell_type": "markdown",
   "metadata": {},
   "source": [
    "## 3. Kullanıcıdan bilgi almak: input() fonksiyonu"
   ]
  },
  {
   "cell_type": "code",
   "execution_count": 33,
   "metadata": {},
   "outputs": [
    {
     "name": "stdout",
     "output_type": "stream",
     "text": [
      "Merhaba Kaan!\n"
     ]
    }
   ],
   "source": [
    "isim = \"Kaan\"\n",
    "print(\"Merhaba\", isim, end=\"!\\n\")"
   ]
  },
  {
   "cell_type": "code",
   "execution_count": 34,
   "metadata": {},
   "outputs": [
    {
     "name": "stdout",
     "output_type": "stream",
     "text": [
      "İsminiz nedir? Yücel\n",
      "Merhaba Yücel!\n"
     ]
    }
   ],
   "source": [
    "isim = input(\"İsminiz nedir? \")\n",
    "print(\"Merhaba\", isim, end=\"!\\n\")"
   ]
  },
  {
   "cell_type": "code",
   "execution_count": 35,
   "metadata": {},
   "outputs": [
    {
     "name": "stdout",
     "output_type": "stream",
     "text": [
      "Yaşınız: 29\n",
      "Demek 29 yaşındasın.\n",
      "Genç mi yoksa yaşlı mı olduğuna karar veremedim.\n"
     ]
    }
   ],
   "source": [
    "yaş = input(\"Yaşınız: \")\n",
    "print(\"Demek\", yaş, \"yaşındasın.\")\n",
    "print(\"Genç mi yoksa yaşlı mı olduğuna karar veremedim.\")"
   ]
  },
  {
   "cell_type": "code",
   "execution_count": 37,
   "metadata": {},
   "outputs": [
    {
     "data": {
      "text/plain": [
       "201.06176"
      ]
     },
     "execution_count": 37,
     "metadata": {},
     "output_type": "execute_result"
    }
   ],
   "source": [
    "cap = 16\n",
    "yaricap = cap / 2\n",
    "pi = 3.14159\n",
    "alan = pi * (yaricap * yaricap)\n",
    "alan"
   ]
  },
  {
   "cell_type": "code",
   "execution_count": 38,
   "metadata": {},
   "outputs": [
    {
     "name": "stdout",
     "output_type": "stream",
     "text": [
      "Dairenin çapı: 12\n",
      "Çapı 12 cm olan dairenin alanı:  201.06176 cm2'dir\n"
     ]
    }
   ],
   "source": [
    "# Kullanıcıdan dairenin çapını girmesini istiyoruz.\n",
    "cap = input(\"Dairenin çapı: \")\n",
    "\n",
    "# Kullanıcının verdiği çap bilgisini kullanarak yarıçapı hesaplayalım.\n",
    "\n",
    "yaricap = int(cap) / 2\n",
    "\n",
    "# pi sayımız sabit\n",
    "pi = 3.14159\n",
    "\n",
    "# Yukarıdaki bilgileri kullanarak artık \n",
    "# dairenin alanını hesaplayabiliriz alan = pi * (yarıçap * yarıçap)\n",
    "# Son olarak, hesapladığımız alanı yazdırıyoruz\n",
    "\n",
    "print(\"Çapı\", cap, \"cm olan dairenin alanı: \", alan, \"cm2'dir\")"
   ]
  },
  {
   "cell_type": "markdown",
   "metadata": {},
   "source": [
    "**Bunu bir dosyaya kaydedelim. Spyder IDE'de yeni bir python dosyası oluşturalım (.py uzantılı). Sonra onu anaconda terminali açıp aşağıdaki şekilde çalıştıralım.**"
   ]
  },
  {
   "cell_type": "raw",
   "metadata": {},
   "source": [
    "$ python3 dairenin_alani.py"
   ]
  }
 ],
 "metadata": {
  "kernelspec": {
   "display_name": "Python 3",
   "language": "python",
   "name": "python3"
  },
  "language_info": {
   "codemirror_mode": {
    "name": "ipython",
    "version": 3
   },
   "file_extension": ".py",
   "mimetype": "text/x-python",
   "name": "python",
   "nbconvert_exporter": "python",
   "pygments_lexer": "ipython3",
   "version": "3.6.2"
  }
 },
 "nbformat": 4,
 "nbformat_minor": 2
}
